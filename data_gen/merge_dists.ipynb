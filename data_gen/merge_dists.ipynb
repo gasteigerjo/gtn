{
 "cells": [
  {
   "cell_type": "code",
   "execution_count": 1,
   "metadata": {},
   "outputs": [],
   "source": [
    "from pathlib import Path\n",
    "import numpy as np\n",
    "import scipy.sparse as sp\n",
    "from tqdm.notebook import tqdm\n",
    "\n",
    "from gtn.dataloader.io import load_from_npz, save_to_npz\n",
    "from gtn.dataloader.graphcollection import DistanceMatrix"
   ]
  },
  {
   "cell_type": "code",
   "execution_count": 2,
   "metadata": {},
   "outputs": [],
   "source": [
    "dataname = \"aids\"\n",
    "respath = Path(f\"/nfs/staff-ssd/klicpera/{dataname}_ged\")\n",
    "datasets = ['train', 'val', 'test']\n",
    "ngraphs = {'train': 144, 'val': 48, 'test': 48}"
   ]
  },
  {
   "cell_type": "markdown",
   "metadata": {},
   "source": [
    "### Merge distances"
   ]
  },
  {
   "cell_type": "code",
   "execution_count": 25,
   "metadata": {},
   "outputs": [],
   "source": [
    "graph1 = 0\n",
    "graph2 = 1\n",
    "fname = f\"ged_{datasets[0]}_{graph1}_{graph2}.npz\"\n",
    "with np.load(respath / \"dists_raw\" / fname, 'r') as loader:\n",
    "    loader = dict(loader)"
   ]
  },
  {
   "cell_type": "code",
   "execution_count": 5,
   "metadata": {},
   "outputs": [
    {
     "data": {
      "application/vnd.jupyter.widget-view+json": {
       "model_id": "0429ceed5c0340a99f5bb1bedd685f28",
       "version_major": 2,
       "version_minor": 0
      },
      "text/plain": [
       "HBox(children=(FloatProgress(value=0.0, max=47.0), HTML(value='')))"
      ]
     },
     "metadata": {},
     "output_type": "display_data"
    },
    {
     "name": "stdout",
     "output_type": "stream",
     "text": [
      "\n"
     ]
    }
   ],
   "source": [
    "for dataset in datasets:\n",
    "    arr = np.zeros([ngraphs[dataset], ngraphs[dataset]], dtype=np.float32)\n",
    "    for graph1 in tqdm(range(ngraphs[dataset] - 1)):\n",
    "        missing = False\n",
    "        for graph2 in range(graph1 + 1, ngraphs[dataset]):\n",
    "            fname = f\"ged_{dataset}_{graph1}_{graph2}.npz\"\n",
    "            with np.load(respath / \"dists_raw\" / fname, 'r') as loader:\n",
    "                loader = dict(loader)\n",
    "                if np.sum(loader['arr_0'] != 0) == 0:\n",
    "                    print(f\"No non-zero distance: {dataset}, {graph1} - {graph2}\")\n",
    "                arr[graph1, graph2] += loader['arr_0'][graph1, graph2]\n",
    "                arr[graph2, graph1] += loader['arr_0'][graph1, graph2]\n",
    "    nentries = np.sum(arr != 0)\n",
    "    npairs = ngraphs[dataset] * (ngraphs[dataset] - 1) / 2\n",
    "    if nentries != 2 * npairs:\n",
    "        print(f\"Not the right number of distances: {nentries} != {2 * npairs}\")\n",
    "    np.savez(respath / \"dists\" / f\"{dataname}_ged_{dataset}.npz\", arr)"
   ]
  },
  {
   "cell_type": "markdown",
   "metadata": {},
   "source": [
    "#### Investigate graph pair with 0 distance"
   ]
  },
  {
   "cell_type": "code",
   "execution_count": 4,
   "metadata": {},
   "outputs": [
    {
     "name": "stdout",
     "output_type": "stream",
     "text": [
      "<Undirected, unweighted and connected SparseGraph with 54 edges (no self-loops). Data: adj_matrix (24x24), attr_matrix (24x1), edge_attr_matrix (54x1), attr_names (1), edge_attr_names (1), metadata>\n",
      "<Undirected, unweighted and connected SparseGraph with 46 edges (no self-loops). Data: adj_matrix (20x20), attr_matrix (20x1), edge_attr_matrix (46x1), attr_names (1), edge_attr_names (1), metadata>\n"
     ]
    },
    {
     "ename": "ValueError",
     "evalue": "inconsistent shapes",
     "output_type": "error",
     "traceback": [
      "\u001b[0;31m---------------------------------------------------------------------------\u001b[0m",
      "\u001b[0;31mValueError\u001b[0m                                Traceback (most recent call last)",
      "\u001b[0;32m<ipython-input-4-a6ab541251b8>\u001b[0m in \u001b[0;36m<module>\u001b[0;34m\u001b[0m\n\u001b[1;32m      5\u001b[0m \u001b[0mprint\u001b[0m\u001b[0;34m(\u001b[0m\u001b[0mg1\u001b[0m\u001b[0;34m)\u001b[0m\u001b[0;34m\u001b[0m\u001b[0;34m\u001b[0m\u001b[0m\n\u001b[1;32m      6\u001b[0m \u001b[0mprint\u001b[0m\u001b[0;34m(\u001b[0m\u001b[0mg2\u001b[0m\u001b[0;34m)\u001b[0m\u001b[0;34m\u001b[0m\u001b[0;34m\u001b[0m\u001b[0m\n\u001b[0;32m----> 7\u001b[0;31m \u001b[0mprint\u001b[0m\u001b[0;34m(\u001b[0m\u001b[0;34m(\u001b[0m\u001b[0mg1\u001b[0m\u001b[0;34m.\u001b[0m\u001b[0madj_matrix\u001b[0m \u001b[0;34m-\u001b[0m \u001b[0mg2\u001b[0m\u001b[0;34m.\u001b[0m\u001b[0madj_matrix\u001b[0m\u001b[0;34m)\u001b[0m\u001b[0;34m.\u001b[0m\u001b[0mnonzero\u001b[0m\u001b[0;34m(\u001b[0m\u001b[0;34m)\u001b[0m\u001b[0;34m)\u001b[0m\u001b[0;34m\u001b[0m\u001b[0;34m\u001b[0m\u001b[0m\n\u001b[0m\u001b[1;32m      8\u001b[0m \u001b[0mprint\u001b[0m\u001b[0;34m(\u001b[0m\u001b[0;34m(\u001b[0m\u001b[0mg1\u001b[0m\u001b[0;34m.\u001b[0m\u001b[0mattr_matrix\u001b[0m \u001b[0;34m-\u001b[0m \u001b[0mg2\u001b[0m\u001b[0;34m.\u001b[0m\u001b[0mattr_matrix\u001b[0m\u001b[0;34m)\u001b[0m\u001b[0;34m.\u001b[0m\u001b[0mnonzero\u001b[0m\u001b[0;34m(\u001b[0m\u001b[0;34m)\u001b[0m\u001b[0;34m)\u001b[0m\u001b[0;34m\u001b[0m\u001b[0;34m\u001b[0m\u001b[0m\n\u001b[1;32m      9\u001b[0m \u001b[0mprint\u001b[0m\u001b[0;34m(\u001b[0m\u001b[0;34m(\u001b[0m\u001b[0mg1\u001b[0m\u001b[0;34m.\u001b[0m\u001b[0medge_attr_matrix\u001b[0m \u001b[0;34m-\u001b[0m \u001b[0mg2\u001b[0m\u001b[0;34m.\u001b[0m\u001b[0medge_attr_matrix\u001b[0m\u001b[0;34m)\u001b[0m\u001b[0;34m.\u001b[0m\u001b[0mnonzero\u001b[0m\u001b[0;34m(\u001b[0m\u001b[0;34m)\u001b[0m\u001b[0;34m)\u001b[0m\u001b[0;34m\u001b[0m\u001b[0;34m\u001b[0m\u001b[0m\n",
      "\u001b[0;32m/nfs/staff-ssd/klicpera/anaconda3/envs/graph/lib/python3.7/site-packages/scipy/sparse/base.py\u001b[0m in \u001b[0;36m__sub__\u001b[0;34m(self, other)\u001b[0m\n\u001b[1;32m    432\u001b[0m         \u001b[0;32melif\u001b[0m \u001b[0misspmatrix\u001b[0m\u001b[0;34m(\u001b[0m\u001b[0mother\u001b[0m\u001b[0;34m)\u001b[0m\u001b[0;34m:\u001b[0m\u001b[0;34m\u001b[0m\u001b[0;34m\u001b[0m\u001b[0m\n\u001b[1;32m    433\u001b[0m             \u001b[0;32mif\u001b[0m \u001b[0mother\u001b[0m\u001b[0;34m.\u001b[0m\u001b[0mshape\u001b[0m \u001b[0;34m!=\u001b[0m \u001b[0mself\u001b[0m\u001b[0;34m.\u001b[0m\u001b[0mshape\u001b[0m\u001b[0;34m:\u001b[0m\u001b[0;34m\u001b[0m\u001b[0;34m\u001b[0m\u001b[0m\n\u001b[0;32m--> 434\u001b[0;31m                 \u001b[0;32mraise\u001b[0m \u001b[0mValueError\u001b[0m\u001b[0;34m(\u001b[0m\u001b[0;34m\"inconsistent shapes\"\u001b[0m\u001b[0;34m)\u001b[0m\u001b[0;34m\u001b[0m\u001b[0;34m\u001b[0m\u001b[0m\n\u001b[0m\u001b[1;32m    435\u001b[0m             \u001b[0;32mreturn\u001b[0m \u001b[0mself\u001b[0m\u001b[0;34m.\u001b[0m\u001b[0m_sub_sparse\u001b[0m\u001b[0;34m(\u001b[0m\u001b[0mother\u001b[0m\u001b[0;34m)\u001b[0m\u001b[0;34m\u001b[0m\u001b[0;34m\u001b[0m\u001b[0m\n\u001b[1;32m    436\u001b[0m         \u001b[0;32melif\u001b[0m \u001b[0misdense\u001b[0m\u001b[0;34m(\u001b[0m\u001b[0mother\u001b[0m\u001b[0;34m)\u001b[0m\u001b[0;34m:\u001b[0m\u001b[0;34m\u001b[0m\u001b[0;34m\u001b[0m\u001b[0m\n",
      "\u001b[0;31mValueError\u001b[0m: inconsistent shapes"
     ]
    }
   ],
   "source": [
    "npz_file = f\"/nfs/homedirs/klicpera/graph-distance/graph-distance/data/raw/{dataname}_ged_train.npz\"\n",
    "gcoll = load_from_npz(npz_file)\n",
    "g1 = gcoll[11]\n",
    "g2 = gcoll[138]\n",
    "print(g1)\n",
    "print(g2)\n",
    "print((g1.adj_matrix - g2.adj_matrix).nonzero())\n",
    "print((g1.attr_matrix - g2.attr_matrix).nonzero())\n",
    "print((g1.edge_attr_matrix - g2.edge_attr_matrix).nonzero())"
   ]
  },
  {
   "cell_type": "code",
   "execution_count": 5,
   "metadata": {},
   "outputs": [
    {
     "data": {
      "text/plain": [
       "30"
      ]
     },
     "execution_count": 5,
     "metadata": {},
     "output_type": "execute_result"
    }
   ],
   "source": [
    "max([g.num_nodes() for g in gcoll])"
   ]
  },
  {
   "cell_type": "markdown",
   "metadata": {},
   "source": [
    "#### Investigate distance matrix"
   ]
  },
  {
   "cell_type": "code",
   "execution_count": 6,
   "metadata": {},
   "outputs": [
    {
     "name": "stdout",
     "output_type": "stream",
     "text": [
      "True\n",
      "[[ 0. 39. 31. ... 61. 41. 40.]\n",
      " [39.  0. 45. ... 63. 33. 36.]\n",
      " [31. 45.  0. ... 46. 37. 38.]\n",
      " ...\n",
      " [61. 63. 46. ...  0. 55. 52.]\n",
      " [41. 33. 37. ... 55.  0. 23.]\n",
      " [40. 36. 38. ... 52. 23.  0.]]\n",
      "Symmetric: True\n"
     ]
    }
   ],
   "source": [
    "with np.load(respath / \"dists\" / f\"{dataname}_ged_train.npz\", 'r') as loader:\n",
    "    loader = dict(loader)\n",
    "    dists = loader['arr_0']\n",
    "    col, row = np.where(dists == 0)\n",
    "    print(np.all(col == row))\n",
    "    if not np.all(col == row):\n",
    "        print(col[col != row], row[col != row])\n",
    "    \n",
    "print(dists)\n",
    "print(f\"Symmetric: {np.all(np.isclose(dists, dists.T))}\")"
   ]
  },
  {
   "cell_type": "markdown",
   "metadata": {},
   "source": [
    "### Save distances in GraphCollection"
   ]
  },
  {
   "cell_type": "code",
   "execution_count": 8,
   "metadata": {},
   "outputs": [
    {
     "name": "stdout",
     "output_type": "stream",
     "text": [
      "Convert test\n"
     ]
    }
   ],
   "source": [
    "for dataset in datasets:\n",
    "    print(f\"Convert {dataset}\")\n",
    "    gcoll = load_from_npz(Path.home() / \"graph-distance\" / \"graph-distance\" / \"data\" / \"raw\" / f\"{dataname}_ged_{dataset}.npz\")\n",
    "    # assert np.sum(gcoll.dists.A != 0) == 0\n",
    "    with np.load(respath / \"dists\" / f\"{dataname}_ged_{dataset}.npz\", 'r') as loader:\n",
    "        loader = dict(loader)\n",
    "        gcoll.dists = DistanceMatrix(loader['arr_0'])\n",
    "    save_to_npz(Path.home() / \"graph-distance\" / \"graph-distance\" / \"data\" / \"raw\" / f\"{dataname}_ged_{dataset}_new.npz\", gcoll)"
   ]
  },
  {
   "cell_type": "code",
   "execution_count": 36,
   "metadata": {},
   "outputs": [],
   "source": [
    "dataset = 'train'\n",
    "gcoll = load_from_npz(Path.home() / \"graph-distance\" / \"graph-distance\" / \"data\" / \"raw\" / f\"{dataname}_ged_{dataset}_new.npz\")"
   ]
  },
  {
   "cell_type": "markdown",
   "metadata": {},
   "source": [
    "### Convert attr_matrix and edge_attr_matrix to ndarray"
   ]
  },
  {
   "cell_type": "code",
   "execution_count": 11,
   "metadata": {},
   "outputs": [
    {
     "name": "stdout",
     "output_type": "stream",
     "text": [
      "Convert test\n"
     ]
    }
   ],
   "source": [
    "for dataset in datasets:\n",
    "    print(f\"Convert {dataset}\")\n",
    "    data_path = Path.home() / \"graph-distance\" / \"graph-distance\" / \"data\" / \"raw\" / f\"{dataname}_ged_{dataset}.npz\"\n",
    "    gcoll = load_from_npz(data_path)\n",
    "    for graph in gcoll:\n",
    "        if sp.issparse(graph.attr_matrix):\n",
    "            graph._attr_matrix = graph.attr_matrix.A\n",
    "            graph._edge_attr_matrix = graph.edge_attr_matrix.A\n",
    "    save_to_npz(data_path, gcoll)"
   ]
  }
 ],
 "metadata": {
  "kernelspec": {
   "display_name": "Python 3",
   "language": "python",
   "name": "python3"
  },
  "language_info": {
   "codemirror_mode": {
    "name": "ipython",
    "version": 3
   },
   "file_extension": ".py",
   "mimetype": "text/x-python",
   "name": "python",
   "nbconvert_exporter": "python",
   "pygments_lexer": "ipython3",
   "version": "3.7.3"
  }
 },
 "nbformat": 4,
 "nbformat_minor": 4
}
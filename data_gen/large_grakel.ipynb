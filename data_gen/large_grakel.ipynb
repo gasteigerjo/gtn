{
 "cells": [
  {
   "cell_type": "code",
   "execution_count": 1,
   "metadata": {},
   "outputs": [],
   "source": [
    "%reload_ext autoreload\n",
    "%autoreload 2\n",
    "%aimport -time -typing -numpy -torch -tqdm -matplotlib -matplotlib.pyplot -pickle"
   ]
  },
  {
   "cell_type": "code",
   "execution_count": 2,
   "metadata": {},
   "outputs": [
    {
     "name": "stderr",
     "output_type": "stream",
     "text": [
      "/nfs/staff-ssd/klicpera/anaconda3/envs/pytorch/lib/python3.7/site-packages/sklearn/externals/joblib/__init__.py:15: FutureWarning: sklearn.externals.joblib is deprecated in 0.21 and will be removed in 0.23. Please import this functionality directly from joblib, which can be installed with: pip install joblib. If this warning is raised when loading pickled models, you may need to re-serialize those models with scikit-learn 0.21+.\n",
      "  warnings.warn(msg, category=FutureWarning)\n",
      "/nfs/staff-ssd/klicpera/anaconda3/envs/pytorch/lib/python3.7/site-packages/sklearn/utils/deprecation.py:144: FutureWarning: The sklearn.datasets.lfw module is  deprecated in version 0.22 and will be removed in version 0.24. The corresponding classes / functions should instead be imported from sklearn.datasets. Anything that cannot be imported from sklearn.datasets is now part of the private API.\n",
      "  warnings.warn(message, FutureWarning)\n"
     ]
    }
   ],
   "source": [
    "import numpy as np\n",
    "import scipy.sparse as sp\n",
    "import grakel\n",
    "import matplotlib.pyplot as plt\n",
    "import seaborn as sns\n",
    "from tqdm.notebook import tqdm\n",
    "from jkutils.misc import pickle_cache\n",
    "\n",
    "from gtn.dataloader.io import load_from_npz, save_to_npz\n",
    "from gtn.dataloader.graphcollection import DistanceMatrix"
   ]
  },
  {
   "cell_type": "markdown",
   "metadata": {},
   "source": [
    "# Load and convert data"
   ]
  },
  {
   "cell_type": "code",
   "execution_count": 5,
   "metadata": {},
   "outputs": [],
   "source": [
    "gcolls = {}\n",
    "for min_nodes in [100, 1000, 10_000]:\n",
    "    gcolls[min_nodes] = {}\n",
    "    for dataset in ['train', 'val', 'test']:\n",
    "        gcolls[min_nodes][dataset] = load_from_npz(f\"../raw/pref_att_{min_nodes}_nh_{dataset}.npz\")"
   ]
  },
  {
   "cell_type": "code",
   "execution_count": 6,
   "metadata": {},
   "outputs": [],
   "source": [
    "def spgraph_to_grakel_graph(graph):\n",
    "    edge_dict = list(zip(*graph.adj_matrix.nonzero()))\n",
    "    node_label_dict = dict(zip(range(graph.num_nodes()), graph.attr_matrix.flatten().astype(np.int)))\n",
    "    if graph.edge_attr_matrix is not None:\n",
    "        edge_label_dict = dict(zip(zip(*graph.adj_matrix.nonzero()), graph.edge_attr_matrix.flatten().astype(np.int)))\n",
    "        return grakel.Graph(edge_dict, node_label_dict, edge_label_dict)\n",
    "    else:\n",
    "        return grakel.Graph(edge_dict, node_label_dict)"
   ]
  },
  {
   "cell_type": "code",
   "execution_count": 7,
   "metadata": {},
   "outputs": [
    {
     "data": {
      "application/vnd.jupyter.widget-view+json": {
       "model_id": "a3a124e7bfca4a6c80231921426c8de7",
       "version_major": 2,
       "version_minor": 0
      },
      "text/plain": [
       "HBox(children=(FloatProgress(value=0.0, max=144.0), HTML(value='')))"
      ]
     },
     "metadata": {},
     "output_type": "display_data"
    },
    {
     "name": "stdout",
     "output_type": "stream",
     "text": [
      "\n"
     ]
    },
    {
     "data": {
      "application/vnd.jupyter.widget-view+json": {
       "model_id": "07b7f049fc074b8fa12d5d49df22883e",
       "version_major": 2,
       "version_minor": 0
      },
      "text/plain": [
       "HBox(children=(FloatProgress(value=0.0, max=48.0), HTML(value='')))"
      ]
     },
     "metadata": {},
     "output_type": "display_data"
    },
    {
     "name": "stdout",
     "output_type": "stream",
     "text": [
      "\n"
     ]
    },
    {
     "data": {
      "application/vnd.jupyter.widget-view+json": {
       "model_id": "edd0e3378c89407192e765dd4d6bfe02",
       "version_major": 2,
       "version_minor": 0
      },
      "text/plain": [
       "HBox(children=(FloatProgress(value=0.0, max=48.0), HTML(value='')))"
      ]
     },
     "metadata": {},
     "output_type": "display_data"
    },
    {
     "name": "stdout",
     "output_type": "stream",
     "text": [
      "\n"
     ]
    },
    {
     "data": {
      "application/vnd.jupyter.widget-view+json": {
       "model_id": "fb298c40ac994064a37cd1db2e6ffead",
       "version_major": 2,
       "version_minor": 0
      },
      "text/plain": [
       "HBox(children=(FloatProgress(value=0.0, max=144.0), HTML(value='')))"
      ]
     },
     "metadata": {},
     "output_type": "display_data"
    },
    {
     "name": "stdout",
     "output_type": "stream",
     "text": [
      "\n"
     ]
    },
    {
     "data": {
      "application/vnd.jupyter.widget-view+json": {
       "model_id": "1cc12ab618a0483db2c5f339ca1445b8",
       "version_major": 2,
       "version_minor": 0
      },
      "text/plain": [
       "HBox(children=(FloatProgress(value=0.0, max=48.0), HTML(value='')))"
      ]
     },
     "metadata": {},
     "output_type": "display_data"
    },
    {
     "name": "stdout",
     "output_type": "stream",
     "text": [
      "\n"
     ]
    },
    {
     "data": {
      "application/vnd.jupyter.widget-view+json": {
       "model_id": "60acae21096147658908dbc91d2ef352",
       "version_major": 2,
       "version_minor": 0
      },
      "text/plain": [
       "HBox(children=(FloatProgress(value=0.0, max=48.0), HTML(value='')))"
      ]
     },
     "metadata": {},
     "output_type": "display_data"
    },
    {
     "name": "stdout",
     "output_type": "stream",
     "text": [
      "\n"
     ]
    },
    {
     "data": {
      "application/vnd.jupyter.widget-view+json": {
       "model_id": "27a73eabf7bd41bea86c740acec0181d",
       "version_major": 2,
       "version_minor": 0
      },
      "text/plain": [
       "HBox(children=(FloatProgress(value=0.0, max=144.0), HTML(value='')))"
      ]
     },
     "metadata": {},
     "output_type": "display_data"
    },
    {
     "name": "stdout",
     "output_type": "stream",
     "text": [
      "\n"
     ]
    },
    {
     "data": {
      "application/vnd.jupyter.widget-view+json": {
       "model_id": "c389949e754444b3a170ae56c7687264",
       "version_major": 2,
       "version_minor": 0
      },
      "text/plain": [
       "HBox(children=(FloatProgress(value=0.0, max=48.0), HTML(value='')))"
      ]
     },
     "metadata": {},
     "output_type": "display_data"
    },
    {
     "name": "stdout",
     "output_type": "stream",
     "text": [
      "\n"
     ]
    },
    {
     "data": {
      "application/vnd.jupyter.widget-view+json": {
       "model_id": "a930b673ea9b4489b93e4e55bb65a7e5",
       "version_major": 2,
       "version_minor": 0
      },
      "text/plain": [
       "HBox(children=(FloatProgress(value=0.0, max=48.0), HTML(value='')))"
      ]
     },
     "metadata": {},
     "output_type": "display_data"
    },
    {
     "name": "stdout",
     "output_type": "stream",
     "text": [
      "\n"
     ]
    }
   ],
   "source": [
    "grakel_graphs = {}\n",
    "for k1, gcolls_size in gcolls.items():\n",
    "    grakel_graphs[k1] = {}\n",
    "    for k2, gcoll_dataset in gcolls_size.items():\n",
    "        grakel_graphs[k1][k2] = []\n",
    "        for graph in tqdm(gcoll_dataset):\n",
    "            grakel_graphs[k1][k2].append(spgraph_to_grakel_graph(graph))"
   ]
  },
  {
   "cell_type": "markdown",
   "metadata": {},
   "source": [
    "# Select kernel"
   ]
  },
  {
   "cell_type": "code",
   "execution_count": 18,
   "metadata": {},
   "outputs": [],
   "source": [
    "pm = grakel.PyramidMatch(normalize=True, L=4, d=6)"
   ]
  },
  {
   "cell_type": "code",
   "execution_count": 21,
   "metadata": {},
   "outputs": [
    {
     "name": "stdout",
     "output_type": "stream",
     "text": [
      "CPU times: user 59.9 s, sys: 5.11 s, total: 1min 4s\n",
      "Wall time: 19.2 s\n"
     ]
    },
    {
     "data": {
      "text/plain": [
       "array([[1.        , 0.60928461, 0.64456538],\n",
       "       [0.60928461, 1.        , 0.94517424],\n",
       "       [0.64456538, 0.94517424, 1.        ]])"
      ]
     },
     "execution_count": 21,
     "metadata": {},
     "output_type": "execute_result"
    }
   ],
   "source": [
    "%time pm.fit_transform(grakel_graphs[10000]['train'][:3])"
   ]
  },
  {
   "cell_type": "code",
   "execution_count": 22,
   "metadata": {},
   "outputs": [],
   "source": [
    "kernel = pm"
   ]
  },
  {
   "cell_type": "code",
   "execution_count": 23,
   "metadata": {},
   "outputs": [],
   "source": [
    "def calc_gram_mats(graphs):\n",
    "    gram_mats = {}\n",
    "    for k1, graphs_size in graphs.items():\n",
    "        gram_mats[k1] = {}\n",
    "        for k2, graphs_dataset in graphs_size.items():\n",
    "            print(f\"{k1}, {k2}\")\n",
    "            gram_mats[k1][k2] = kernel.fit_transform(graphs_dataset)\n",
    "    return gram_mats"
   ]
  },
  {
   "cell_type": "code",
   "execution_count": 24,
   "metadata": {},
   "outputs": [
    {
     "name": "stdout",
     "output_type": "stream",
     "text": [
      "100, train\n",
      "100, val\n",
      "100, test\n",
      "1000, train\n",
      "1000, val\n",
      "1000, test\n",
      "10000, train\n",
      "10000, val\n",
      "10000, test\n"
     ]
    }
   ],
   "source": [
    "# simple\n",
    "gram_mats = pickle_cache('gram_mats_pm.pkl', calc_gram_mats, fn_args=[grakel_graphs])\n",
    "\n",
    "# count_sensitive\n",
    "# gram_mats_cs = pickle_cache('gram_mats_cs.pkl', calc_gram_mats, fn_args=[grakel_graphs])"
   ]
  },
  {
   "cell_type": "code",
   "execution_count": 25,
   "metadata": {},
   "outputs": [
    {
     "data": {
      "text/plain": [
       "array([[1.        , 0.60928461, 0.64456538, ..., 0.68351114, 0.68333495,\n",
       "        0.66732499],\n",
       "       [0.60928461, 1.        , 0.94517424, ..., 0.89131877, 0.89155569,\n",
       "        0.9129366 ],\n",
       "       [0.64456538, 0.94517424, 1.        , ..., 0.94298766, 0.94323832,\n",
       "        0.96583798],\n",
       "       ...,\n",
       "       [0.68351114, 0.89131877, 0.94298766, ..., 1.        , 0.99879653,\n",
       "        0.97627595],\n",
       "       [0.68333495, 0.89155569, 0.94323832, ..., 0.99879653, 1.        ,\n",
       "        0.97653547],\n",
       "       [0.66732499, 0.9129366 , 0.96583798, ..., 0.97627595, 0.97653547,\n",
       "        1.        ]])"
      ]
     },
     "execution_count": 25,
     "metadata": {},
     "output_type": "execute_result"
    }
   ],
   "source": [
    "gram_mats[10000]['train']"
   ]
  },
  {
   "cell_type": "markdown",
   "metadata": {},
   "source": [
    "# Convert to distances"
   ]
  },
  {
   "cell_type": "code",
   "execution_count": 36,
   "metadata": {},
   "outputs": [],
   "source": [
    "dists = {}\n",
    "for k1, grams_size in gram_mats.items():\n",
    "    dists[k1] = {}\n",
    "    for k2, gram in grams_size.items():\n",
    "        # Non-normalized: dist2 = (np.diagonal(gram_mat)[:, None] + np.diagonal(gram_mat)[None, :]) / 2 - gram_mat\n",
    "        dists[k1][k2] = np.sqrt(1 - gram)"
   ]
  },
  {
   "cell_type": "code",
   "execution_count": 31,
   "metadata": {},
   "outputs": [
    {
     "data": {
      "image/png": "[encoded data removed]",
      "text/plain": [
       "<Figure size 432x288 with 1 Axes>"
      ]
     },
     "metadata": {
      "needs_background": "light"
     },
     "output_type": "display_data"
    }
   ],
   "source": [
    "sns.distplot(dists[10000]['train'].flatten())\n",
    "plt.xlim(0, 1)\n",
    "plt.show()"
   ]
  },
  {
   "cell_type": "code",
   "execution_count": 190,
   "metadata": {},
   "outputs": [
    {
     "data": {
      "image/png": "[encoded data removed]",
      "text/plain": [
       "<Figure size 432x288 with 1 Axes>"
      ]
     },
     "metadata": {
      "needs_background": "light"
     },
     "output_type": "display_data"
    }
   ],
   "source": [
    "sns.distplot(dists[10000]['train'].flatten())\n",
    "plt.xlim(0, 1)\n",
    "plt.show()"
   ]
  },
  {
   "cell_type": "code",
   "execution_count": 32,
   "metadata": {},
   "outputs": [
    {
     "data": {
      "image/png": "[encoded data removed]",
      "text/plain": [
       "<Figure size 432x288 with 1 Axes>"
      ]
     },
     "metadata": {
      "needs_background": "light"
     },
     "output_type": "display_data"
    }
   ],
   "source": [
    "# Triangle inequality doesn't hold -> no!\n",
    "dist_b = -np.log(gram_mats[10000]['train'])\n",
    "sns.distplot(dist_b.flatten())\n",
    "plt.show()"
   ]
  },
  {
   "cell_type": "code",
   "execution_count": 37,
   "metadata": {},
   "outputs": [],
   "source": [
    "# Test metric properties\n",
    "for dists_size in dists.values():\n",
    "    for dist_mat in dists_size.values():\n",
    "        assert np.all(dist_mat >= 0)\n",
    "        assert np.all(np.where(dist_mat == 0)[0] == np.where(dist_mat == 0)[1])\n",
    "        assert np.all(dist_mat == dist_mat.T)\n",
    "        assert np.all(dist_mat[:, :, None] + dist_mat[None, :, :] >= dist_mat[:, None, :])"
   ]
  },
  {
   "cell_type": "markdown",
   "metadata": {},
   "source": [
    "# Save distances"
   ]
  },
  {
   "cell_type": "code",
   "execution_count": 34,
   "metadata": {},
   "outputs": [
    {
     "data": {
      "text/plain": [
       "DistanceMatrix(\n",
       "[[0.         0.9178094  0.92983264 ... 0.57583857 0.93909967 0.9449905 ]\n",
       " [0.9178094  0.         0.9431922  ... 0.92172015 0.95559525 0.9628603 ]\n",
       " [0.92983264 0.9431922  0.         ... 0.925981   0.9178702  0.91684616]\n",
       " ...\n",
       " [0.57583857 0.92172015 0.925981   ... 0.         0.93791014 0.9440034 ]\n",
       " [0.93909967 0.95559525 0.9178702  ... 0.93791014 0.         0.93031013]\n",
       " [0.9449905  0.9628603  0.91684616 ... 0.9440034  0.93031013 0.        ]])"
      ]
     },
     "execution_count": 34,
     "metadata": {},
     "output_type": "execute_result"
    }
   ],
   "source": [
    "gcolls[100]['train'].dists"
   ]
  },
  {
   "cell_type": "code",
   "execution_count": 38,
   "metadata": {},
   "outputs": [
    {
     "data": {
      "text/plain": [
       "array([[0.        , 0.28107779, 0.6246718 , ..., 0.51657898, 0.40397211,\n",
       "        0.02685876],\n",
       "       [0.28107779, 0.        , 0.58131349, ..., 0.45170653, 0.30251062,\n",
       "        0.28104176],\n",
       "       [0.6246718 , 0.58131349, 0.        , ..., 0.41024299, 0.52089229,\n",
       "        0.62465445],\n",
       "       ...,\n",
       "       [0.51657898, 0.45170653, 0.41024299, ..., 0.        , 0.35202735,\n",
       "        0.51657035],\n",
       "       [0.40397211, 0.30251062, 0.52089229, ..., 0.35202735, 0.        ,\n",
       "        0.40395806],\n",
       "       [0.02685876, 0.28104176, 0.62465445, ..., 0.51657035, 0.40395806,\n",
       "        0.        ]])"
      ]
     },
     "execution_count": 38,
     "metadata": {},
     "output_type": "execute_result"
    }
   ],
   "source": [
    "dists[min_nodes][dataset]"
   ]
  },
  {
   "cell_type": "code",
   "execution_count": 39,
   "metadata": {},
   "outputs": [],
   "source": [
    "for min_nodes in [100, 1000, 10_000]:\n",
    "    for dataset in ['train', 'val', 'test']:\n",
    "        gcolls[min_nodes][dataset].dists = DistanceMatrix(dists[min_nodes][dataset])\n",
    "        save_to_npz(f\"../raw/pref_att_{min_nodes}_pm_{dataset}.npz\", gcolls[min_nodes][dataset])"
   ]
  },
  {
   "cell_type": "raw",
   "metadata": {},
   "source": [
    "gcolls2 = {}\n",
    "for min_nodes in [100, 1000, 10_000]:\n",
    "    gcolls2[min_nodes] = {}\n",
    "    for dataset in ['train', 'val', 'test']:\n",
    "        gcolls2[min_nodes][dataset] = gust.io.load_from_npz(f\"pref_att_{min_nodes}_{dataset}.npz\")"
   ]
  }
 ],
 "metadata": {
  "kernelspec": {
   "display_name": "Python [conda env:pytorch]",
   "language": "python",
   "name": "conda-env-pytorch-py"
  },
  "language_info": {
   "codemirror_mode": {
    "name": "ipython",
    "version": 3
   },
   "file_extension": ".py",
   "mimetype": "text/x-python",
   "name": "python",
   "nbconvert_exporter": "python",
   "pygments_lexer": "ipython3",
   "version": "3.7.6"
  }
 },
 "nbformat": 4,
 "nbformat_minor": 4
}